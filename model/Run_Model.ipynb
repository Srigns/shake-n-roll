{
 "cells": [
  {
   "cell_type": "code",
   "execution_count": null,
   "id": "08d44786-2b3b-4cee-aba0-2add82def385",
   "metadata": {},
   "outputs": [],
   "source": [
    "import time\n",
    "import cv2\n",
    "import numpy as np\n",
    "import tensorflow as tf"
   ]
  },
  {
   "cell_type": "code",
   "execution_count": null,
   "id": "8d23b661-a84f-495b-bd69-1ad44f61aee0",
   "metadata": {},
   "outputs": [],
   "source": [
    "model = tf.keras.models.load_model(\"exported_model/model.h5\")"
   ]
  },
  {
   "cell_type": "code",
   "execution_count": null,
   "id": "6266db13-a728-4588-9d3b-f14ec1619589",
   "metadata": {},
   "outputs": [],
   "source": [
    "cap = cv2.VideoCapture(0)"
   ]
  },
  {
   "cell_type": "code",
   "execution_count": null,
   "id": "e5046566-b421-4cd0-9cb7-3dd41a25e6dc",
   "metadata": {},
   "outputs": [],
   "source": [
    "cap.set(cv2.CAP_PROP_FRAME_WIDTH, 640)\n",
    "cap.set(cv2.CAP_PROP_FRAME_HEIGHT, 360)\n",
    "pTime = 0"
   ]
  },
  {
   "cell_type": "code",
   "execution_count": null,
   "id": "91a0ad3c-8545-46b6-b6c5-14682e9af865",
   "metadata": {},
   "outputs": [],
   "source": [
    "while True:\n",
    "    success, imgRGB = cap.read()\n",
    "    resized = cv2.resize(imgRGB, (192, 108))  # Resize according to your model input shape\n",
    "\n",
    "    input_tensor = resized / 255.0  # Normalize if required\n",
    "\n",
    "    input_tensor = np.expand_dims(input_tensor, axis=0)\n",
    "\n",
    "    yhat = model.predict(input_tensor)\n",
    "\n",
    "    s_coords = yhat[0]\n",
    "    s_img = np.copy(imgRGB)\n",
    "    keys_coords = list(np.multiply(list(zip(s_coords[::2], s_coords[1::2])), [640, 360]))\n",
    "\n",
    "    for i, (x, y) in enumerate(keys_coords):\n",
    "        cv2.circle(s_img, (int(x), int(y)), 8, (255, 0, 0), -1)\n",
    "        if i < len(keys_coords) - 1:\n",
    "            cv2.line(s_img, (int(x), int(y)), (int(keys_coords[i + 1][0]), int(keys_coords[i + 1][1])), (0, 255, 0), 3)\n",
    "\n",
    "    cTime = time.time()\n",
    "    fps = 1 / (cTime - pTime)\n",
    "    pTime = cTime\n",
    "    s_img = cv2.flip(s_img, 1)\n",
    "    cv2.putText(s_img, str(int(fps)), (70, 70), cv2.FONT_HERSHEY_DUPLEX, 3, (255, 0, 0), 3)\n",
    "\n",
    "    cv2.imshow(\"Video\", s_img)\n",
    "    cv2.waitKey(1)"
   ]
  }
 ],
 "metadata": {
  "kernelspec": {
   "display_name": "Python 3 (ipykernel)",
   "language": "python",
   "name": "python3"
  },
  "language_info": {
   "codemirror_mode": {
    "name": "ipython",
    "version": 3
   },
   "file_extension": ".py",
   "mimetype": "text/x-python",
   "name": "python",
   "nbconvert_exporter": "python",
   "pygments_lexer": "ipython3",
   "version": "3.10.12"
  }
 },
 "nbformat": 4,
 "nbformat_minor": 5
}
