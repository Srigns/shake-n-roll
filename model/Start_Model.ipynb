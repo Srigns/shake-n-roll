{
 "cells": [
  {
   "cell_type": "code",
   "execution_count": null,
   "id": "5e62767a-02a4-43b4-ab8e-28b2cc3c66c7",
   "metadata": {},
   "outputs": [],
   "source": [
    "import time\n",
    "import cv2\n",
    "import numpy as np\n",
    "import tensorflow as tf\n",
    "import math\n",
    "import socket"
   ]
  },
  {
   "cell_type": "code",
   "execution_count": null,
   "id": "9d42b9f3-5668-4382-a1f0-81b8bdc9c2af",
   "metadata": {},
   "outputs": [],
   "source": [
    "def calculate_slope(x1, y1, x2, y2):\n",
    "    return (y2 - y1) / (x2 - x1) if x2 - x1 != 0 else math.inf"
   ]
  },
  {
   "cell_type": "code",
   "execution_count": null,
   "id": "34b8fb2b-1a9a-4721-b58d-a2960ad0dedf",
   "metadata": {},
   "outputs": [],
   "source": [
    "def calculate_angle(x1, y1, x2, y2):\n",
    "    slope = calculate_slope(x1, y1, x2, y2)\n",
    "\n",
    "    if slope == math.inf:\n",
    "        return 90.0\n",
    "    else:\n",
    "        angle_rad = math.atan(slope)\n",
    "        angle_deg = math.degrees(angle_rad)\n",
    "        return angle_deg"
   ]
  },
  {
   "cell_type": "code",
   "execution_count": null,
   "id": "c3d95441-d984-418f-8b45-2ec38799846d",
   "metadata": {},
   "outputs": [],
   "source": [
    "sock = socket.socket(socket.AF_INET, socket.SOCK_DGRAM)\n",
    "serverAddressPort = (\"127.0.0.1\", 5052)\n",
    "\n",
    "interpreter = tf.lite.Interpreter(model_path=\"mpii_resnet_100epoch_bin_tflite.tflite\")\n",
    "interpreter.allocate_tensors()\n",
    "\n",
    "cap = cv2.VideoCapture(0)\n",
    "cap.set(cv2.CAP_PROP_FRAME_WIDTH, 640)\n",
    "cap.set(cv2.CAP_PROP_FRAME_HEIGHT, 360)\n",
    "pTime = 0\n",
    "\n",
    "movement_tracked = -2"
   ]
  },
  {
   "cell_type": "code",
   "execution_count": null,
   "id": "ec58d232-5e43-4156-ba75-23291f6ae6cf",
   "metadata": {},
   "outputs": [],
   "source": [
    "while True:\n",
    "    success, imgRGB = cap.read()\n",
    "    resized = tf.image.resize(imgRGB, (108, 192))\n",
    "\n",
    "    input_tensor = resized / 255.0\n",
    "    input_tensor = np.expand_dims(input_tensor, axis=0)\n",
    "\n",
    "    interpreter.set_tensor(interpreter.get_input_details()[0]['index'], input_tensor)\n",
    "\n",
    "    interpreter.invoke()\n",
    "\n",
    "    yhat = interpreter.get_tensor(interpreter.get_output_details()[0]['index'])\n",
    "\n",
    "    s_coords = yhat[0]\n",
    "    s_img = np.copy(imgRGB)\n",
    "    keys_coords = list(np.multiply(list(zip(s_coords[::2], s_coords[1::2])), [640, 360]))\n",
    "\n",
    "    for i, (x, y) in enumerate(keys_coords):\n",
    "        cv2.circle(s_img, (int(x), int(y)), 8, (255, 0, 0), -1)\n",
    "        if i < len(keys_coords) - 1:\n",
    "            cv2.line(s_img, (int(x), int(y)), (int(keys_coords[i + 1][0]), int(keys_coords[i + 1][1])), (0, 255, 0), 3)\n",
    "\n",
    "    x1, y1 = map(int, keys_coords[0])\n",
    "    x2, y2 = map(int, keys_coords[1])\n",
    "\n",
    "    angle = calculate_angle(x1, y1, x2, y2)\n",
    "\n",
    "    cTime = time.time()\n",
    "    fps = 1 / (cTime - pTime)\n",
    "    pTime = cTime\n",
    "    s_img = cv2.flip(s_img, 1)\n",
    "    cv2.putText(s_img, str(int(fps)), (70, 70), cv2.FONT_HERSHEY_DUPLEX, 3, (255, 0, 0), 3)\n",
    "\n",
    "    old = movement_tracked\n",
    "\n",
    "    if -80 < angle < 0:\n",
    "        movement_tracked = -1\n",
    "    elif 80 > angle > 0:\n",
    "        movement_tracked = 1\n",
    "    else:\n",
    "        movement_tracked = 0\n",
    "\n",
    "    sock.sendto(str.encode(str(movement_tracked)), serverAddressPort)\n",
    "\n",
    "    cv2.imshow(\"Video\", s_img)\n",
    "    cv2.waitKey(1)"
   ]
  }
 ],
 "metadata": {
  "kernelspec": {
   "display_name": "Python 3 (ipykernel)",
   "language": "python",
   "name": "python3"
  },
  "language_info": {
   "codemirror_mode": {
    "name": "ipython",
    "version": 3
   },
   "file_extension": ".py",
   "mimetype": "text/x-python",
   "name": "python",
   "nbconvert_exporter": "python",
   "pygments_lexer": "ipython3",
   "version": "3.10.12"
  }
 },
 "nbformat": 4,
 "nbformat_minor": 5
}
