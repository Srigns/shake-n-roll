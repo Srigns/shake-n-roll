{
 "cells": [
  {
   "cell_type": "code",
   "execution_count": null,
   "id": "bbd60fe8",
   "metadata": {
    "_cell_guid": "b1076dfc-b9ad-4769-8c92-a6c4dae69d19",
    "_uuid": "8f2839f25d086af736a60e9eeb907d3b93b6e0e5",
    "papermill": {
     "duration": 0.025897,
     "end_time": "2024-03-04T16:48:24.165875",
     "exception": false,
     "start_time": "2024-03-04T16:48:24.139978",
     "status": "completed"
    },
    "tags": []
   },
   "outputs": [],
   "source": [
    "import os"
   ]
  },
  {
   "cell_type": "code",
   "execution_count": null,
   "id": "b1d194b1",
   "metadata": {
    "papermill": {
     "duration": 25.16104,
     "end_time": "2024-03-04T16:48:49.339710",
     "exception": false,
     "start_time": "2024-03-04T16:48:24.178670",
     "status": "completed"
    },
    "tags": []
   },
   "outputs": [],
   "source": [
    "import cv2\n",
    "import tensorflow as tf\n",
    "import numpy as np\n",
    "from matplotlib import pyplot as plt\n",
    "import uuid\n",
    "import json"
   ]
  },
  {
   "cell_type": "code",
   "execution_count": null,
   "id": "b7d2758b",
   "metadata": {
    "papermill": {
     "duration": 0.594889,
     "end_time": "2024-03-04T16:48:49.945168",
     "exception": false,
     "start_time": "2024-03-04T16:48:49.350279",
     "status": "completed"
    },
    "tags": []
   },
   "outputs": [],
   "source": [
    "gpus = tf.config.experimental.list_physical_devices('GPU')\n",
    "\n",
    "for gpu in gpus:\n",
    "    tf.config.experimental.set_memory_growth(gpu, True)"
   ]
  },
  {
   "cell_type": "code",
   "execution_count": null,
   "id": "de8becc2",
   "metadata": {
    "papermill": {
     "duration": 0.212307,
     "end_time": "2024-03-04T16:48:50.169507",
     "exception": false,
     "start_time": "2024-03-04T16:48:49.957200",
     "status": "completed"
    },
    "tags": []
   },
   "outputs": [],
   "source": [
    "from tensorflow.keras.models import Model\n",
    "from tensorflow.keras.layers import Input, Dropout, GlobalAveragePooling2D, Dense\n",
    "from tensorflow.keras.applications import ResNet50"
   ]
  },
  {
   "cell_type": "code",
   "execution_count": null,
   "id": "c3c292ff",
   "metadata": {
    "papermill": {
     "duration": 0.017397,
     "end_time": "2024-03-04T16:48:50.197124",
     "exception": false,
     "start_time": "2024-03-04T16:48:50.179727",
     "status": "completed"
    },
    "tags": []
   },
   "outputs": [],
   "source": [
    "def load_image(x):\n",
    "    byte_img = tf.io.read_file(x)\n",
    "    img = tf.io.decode_jpeg(byte_img)\n",
    "    return img"
   ]
  },
  {
   "cell_type": "code",
   "execution_count": null,
   "id": "20aeb130",
   "metadata": {
    "papermill": {
     "duration": 0.018029,
     "end_time": "2024-03-04T16:48:59.956067",
     "exception": false,
     "start_time": "2024-03-04T16:48:59.938038",
     "status": "completed"
    },
    "tags": []
   },
   "outputs": [],
   "source": [
    "def load_labels(label_path):\n",
    "    with open(label_path.numpy(), 'r', encoding=\"utf-8\") as f:\n",
    "        label = json.load(f)\n",
    "\n",
    "    return [label[\"keypoints\"][:4]]"
   ]
  },
  {
   "cell_type": "code",
   "execution_count": null,
   "id": "d714c60b",
   "metadata": {
    "papermill": {
     "duration": 7.868908,
     "end_time": "2024-03-04T16:48:58.076503",
     "exception": false,
     "start_time": "2024-03-04T16:48:50.207595",
     "status": "completed"
    },
    "tags": []
   },
   "outputs": [],
   "source": [
    "train_images = tf.data.Dataset.list_files('dataset/train/images/*.jpg', shuffle=False)\n",
    "train_images = train_images.map(load_image)\n",
    "train_images = train_images.map(lambda x: tf.image.resize(x, (108, 192)))\n",
    "train_images = train_images.map(lambda x: x/255)"
   ]
  },
  {
   "cell_type": "code",
   "execution_count": null,
   "id": "8a045695",
   "metadata": {
    "papermill": {
     "duration": 0.402792,
     "end_time": "2024-03-04T16:48:58.490549",
     "exception": false,
     "start_time": "2024-03-04T16:48:58.087757",
     "status": "completed"
    },
    "tags": []
   },
   "outputs": [],
   "source": [
    "test_images = tf.data.Dataset.list_files('dataset/test/images/*.jpg', shuffle=False)\n",
    "test_images = test_images.map(load_image)\n",
    "test_images = test_images.map(lambda x: tf.image.resize(x, (108, 192)))\n",
    "test_images = test_images.map(lambda x: x/255)"
   ]
  },
  {
   "cell_type": "code",
   "execution_count": null,
   "id": "1b713bb1",
   "metadata": {
    "papermill": {
     "duration": 1.19025,
     "end_time": "2024-03-04T16:48:59.691285",
     "exception": false,
     "start_time": "2024-03-04T16:48:58.501035",
     "status": "completed"
    },
    "tags": []
   },
   "outputs": [],
   "source": [
    "val_images = tf.data.Dataset.list_files('dataset/val/images/*.jpg', shuffle=False)\n",
    "val_images = val_images.map(load_image)\n",
    "val_images = val_images.map(lambda x: tf.image.resize(x, (108, 192)))\n",
    "val_images = val_images.map(lambda x: x/255)"
   ]
  },
  {
   "cell_type": "code",
   "execution_count": null,
   "id": "e8d754fb",
   "metadata": {
    "papermill": {
     "duration": 8.507995,
     "end_time": "2024-03-04T16:49:08.473794",
     "exception": false,
     "start_time": "2024-03-04T16:48:59.965799",
     "status": "completed"
    },
    "tags": []
   },
   "outputs": [],
   "source": [
    "train_labels = tf.data.Dataset.list_files(\"dataset/train/labels/*.json\", shuffle=False)\n",
    "train_labels = train_labels.map(lambda x: tf.py_function(load_labels, [x], [tf.float16]))"
   ]
  },
  {
   "cell_type": "code",
   "execution_count": null,
   "id": "b01a1fc0",
   "metadata": {
    "papermill": {
     "duration": 0.550895,
     "end_time": "2024-03-04T16:49:09.034932",
     "exception": false,
     "start_time": "2024-03-04T16:49:08.484037",
     "status": "completed"
    },
    "tags": []
   },
   "outputs": [],
   "source": [
    "test_labels = tf.data.Dataset.list_files(\"dataset/test/labels/*.json\", shuffle=False)\n",
    "test_labels = test_labels.map(lambda x: tf.py_function(load_labels, [x], [tf.float16]))"
   ]
  },
  {
   "cell_type": "code",
   "execution_count": null,
   "id": "6a0ebd44",
   "metadata": {
    "papermill": {
     "duration": 1.164403,
     "end_time": "2024-03-04T16:49:10.209390",
     "exception": false,
     "start_time": "2024-03-04T16:49:09.044987",
     "status": "completed"
    },
    "tags": []
   },
   "outputs": [],
   "source": [
    "val_labels = tf.data.Dataset.list_files(\"dataset/val/labels/*.json\", shuffle=False)\n",
    "val_labels = val_labels.map(lambda x: tf.py_function(load_labels, [x], [tf.float16]))"
   ]
  },
  {
   "cell_type": "code",
   "execution_count": null,
   "id": "6da644a4",
   "metadata": {
    "papermill": {
     "duration": 0.030192,
     "end_time": "2024-03-04T16:49:10.416991",
     "exception": false,
     "start_time": "2024-03-04T16:49:10.386799",
     "status": "completed"
    },
    "tags": []
   },
   "outputs": [],
   "source": [
    "train = tf.data.Dataset.zip((train_images, train_labels))\n",
    "train = train.shuffle(6000)\n",
    "train = train.batch(8)\n",
    "train = train.prefetch(4)"
   ]
  },
  {
   "cell_type": "code",
   "execution_count": null,
   "id": "50c3e9e4",
   "metadata": {
    "papermill": {
     "duration": 0.022994,
     "end_time": "2024-03-04T16:49:10.450139",
     "exception": false,
     "start_time": "2024-03-04T16:49:10.427145",
     "status": "completed"
    },
    "tags": []
   },
   "outputs": [],
   "source": [
    "test = tf.data.Dataset.zip((test_images, test_labels))\n",
    "test = test.shuffle(1500)\n",
    "test = test.batch(8)\n",
    "test = test.prefetch(4)"
   ]
  },
  {
   "cell_type": "code",
   "execution_count": null,
   "id": "cba13c2d",
   "metadata": {
    "papermill": {
     "duration": 0.021808,
     "end_time": "2024-03-04T16:49:10.482011",
     "exception": false,
     "start_time": "2024-03-04T16:49:10.460203",
     "status": "completed"
    },
    "tags": []
   },
   "outputs": [],
   "source": [
    "val = tf.data.Dataset.zip((val_images, val_labels))\n",
    "val = val.shuffle(1500)\n",
    "val = val.batch(8)\n",
    "val = val.prefetch(4)"
   ]
  },
  {
   "cell_type": "code",
   "execution_count": null,
   "id": "8066a9c2",
   "metadata": {
    "papermill": {
     "duration": 0.019206,
     "end_time": "2024-03-04T16:49:10.543982",
     "exception": false,
     "start_time": "2024-03-04T16:49:10.524776",
     "status": "completed"
    },
    "tags": []
   },
   "outputs": [],
   "source": [
    "def build_model():\n",
    "    input_layer = Input(shape=(108, 192, 3))\n",
    "    \n",
    "    backbone = ResNet50(include_top=False, weights=\"imagenet\", input_tensor=input_layer)\n",
    "    backbone.trainable = True\n",
    "    \n",
    "    x = backbone.output\n",
    "    x = GlobalAveragePooling2D()(x)\n",
    "    x = Dropout(0.2)(x)\n",
    "    outputs = Dense(4, activation=\"sigmoid\")(x)\n",
    "    \n",
    "    poseDetector = Model(input_layer,outputs)\n",
    "    \n",
    "    return poseDetector"
   ]
  },
  {
   "cell_type": "code",
   "execution_count": null,
   "id": "1cf1380c",
   "metadata": {
    "papermill": {
     "duration": 2.785736,
     "end_time": "2024-03-04T16:49:13.340077",
     "exception": false,
     "start_time": "2024-03-04T16:49:10.554341",
     "status": "completed"
    },
    "tags": []
   },
   "outputs": [],
   "source": [
    "poseDetector = build_model()"
   ]
  },
  {
   "cell_type": "code",
   "execution_count": null,
   "id": "c55fc1b1",
   "metadata": {
    "papermill": {
     "duration": 0.018397,
     "end_time": "2024-03-04T16:50:06.762736",
     "exception": false,
     "start_time": "2024-03-04T16:50:06.744339",
     "status": "completed"
    },
    "tags": []
   },
   "outputs": [],
   "source": [
    "lr = 1e-5"
   ]
  },
  {
   "cell_type": "code",
   "execution_count": null,
   "id": "dbeb06bc",
   "metadata": {
    "papermill": {
     "duration": 0.037352,
     "end_time": "2024-03-04T16:50:06.811211",
     "exception": false,
     "start_time": "2024-03-04T16:50:06.773859",
     "status": "completed"
    },
    "tags": []
   },
   "outputs": [],
   "source": [
    "poseDetector.compile(loss=\"mean_squared_error\", optimizer=tf.keras.optimizers.Adam(lr))"
   ]
  },
  {
   "cell_type": "code",
   "execution_count": null,
   "id": "1906fe60",
   "metadata": {
    "papermill": {
     "duration": 11423.862104,
     "end_time": "2024-03-04T20:00:30.684647",
     "exception": false,
     "start_time": "2024-03-04T16:50:06.822543",
     "status": "completed"
    },
    "tags": []
   },
   "outputs": [],
   "source": [
    "hist = poseDetector.fit(train,\n",
    "        validation_data=val,\n",
    "        epochs=100\n",
    "    )"
   ]
  },
  {
   "cell_type": "code",
   "execution_count": null,
   "id": "d011978e",
   "metadata": {
    "papermill": {
     "duration": 10.357442,
     "end_time": "2024-03-04T20:00:51.386685",
     "exception": false,
     "start_time": "2024-03-04T20:00:41.029243",
     "status": "completed"
    },
    "tags": []
   },
   "outputs": [],
   "source": [
    "test_data = test.as_numpy_iterator()"
   ]
  },
  {
   "cell_type": "code",
   "execution_count": null,
   "id": "b4b56fa1",
   "metadata": {
    "papermill": {
     "duration": 19.480744,
     "end_time": "2024-03-04T20:01:21.297165",
     "exception": false,
     "start_time": "2024-03-04T20:01:01.816421",
     "status": "completed"
    },
    "tags": []
   },
   "outputs": [],
   "source": [
    "test_sample = test_data.next()\n",
    "yhat = poseDetector.predict(test_sample[0])\n",
    "fig, ax = plt.subplots(ncols=4, figsize=(20,20))\n",
    "for idx in range(4):\n",
    "    s_img = test_sample[0][idx]\n",
    "    s_keyponts = yhat[idx]\n",
    "    s_img = np.copy(s_img)\n",
    "    keys_coords = list(np.multiply(list(zip(s_keyponts[::2], s_keyponts[1::2])), [192, 108]))\n",
    "    for i in keys_coords:\n",
    "        cv2.circle(s_img, tuple(map(int, i)), 2, (255,0,0), -1)\n",
    "    \n",
    "    ax[idx].imshow(s_img)"
   ]
  },
  {
   "cell_type": "code",
   "execution_count": null,
   "id": "305bba52",
   "metadata": {
    "papermill": {
     "duration": 10.652255,
     "end_time": "2024-03-04T20:01:42.251132",
     "exception": false,
     "start_time": "2024-03-04T20:01:31.598877",
     "status": "completed"
    },
    "tags": []
   },
   "outputs": [],
   "source": [
    "fig, ax = plt.subplots(ncols=1, figsize=(20,5))\n",
    "\n",
    "ax.plot(hist.history[\"loss\"], color='teal', label='loss')\n",
    "ax.plot(hist.history[\"val_loss\"], color='orange', label='val loss')\n",
    "ax.title.set_text('Loss')\n",
    "ax.legend()\n",
    "\n",
    "plt.show()"
   ]
  },
  {
   "cell_type": "code",
   "execution_count": null,
   "id": "a2ea9b88",
   "metadata": {
    "papermill": {
     "duration": 11.192784,
     "end_time": "2024-03-04T20:02:03.808951",
     "exception": false,
     "start_time": "2024-03-04T20:01:52.616167",
     "status": "completed"
    },
    "tags": []
   },
   "outputs": [],
   "source": [
    "poseDetector.save(\"exported_models/model.h5\")"
   ]
  }
 ],
 "metadata": {
  "kaggle": {
   "accelerator": "nvidiaTeslaT4",
   "dataSources": [
    {
     "datasetId": 4469616,
     "sourceId": 7664489,
     "sourceType": "datasetVersion"
    },
    {
     "datasetId": 4530315,
     "sourceId": 7749167,
     "sourceType": "datasetVersion"
    },
    {
     "datasetId": 4533437,
     "sourceId": 7753333,
     "sourceType": "datasetVersion"
    }
   ],
   "dockerImageVersionId": 30648,
   "isGpuEnabled": true,
   "isInternetEnabled": true,
   "language": "python",
   "sourceType": "notebook"
  },
  "kernelspec": {
   "display_name": "Python 3 (ipykernel)",
   "language": "python",
   "name": "python3"
  },
  "language_info": {
   "codemirror_mode": {
    "name": "ipython",
    "version": 3
   },
   "file_extension": ".py",
   "mimetype": "text/x-python",
   "name": "python",
   "nbconvert_exporter": "python",
   "pygments_lexer": "ipython3",
   "version": "3.10.12"
  },
  "papermill": {
   "default_parameters": {},
   "duration": 11803.102804,
   "end_time": "2024-03-04T20:05:03.367534",
   "environment_variables": {},
   "exception": null,
   "input_path": "__notebook__.ipynb",
   "output_path": "__notebook__.ipynb",
   "parameters": {},
   "start_time": "2024-03-04T16:48:20.264730",
   "version": "2.5.0"
  }
 },
 "nbformat": 4,
 "nbformat_minor": 5
}
